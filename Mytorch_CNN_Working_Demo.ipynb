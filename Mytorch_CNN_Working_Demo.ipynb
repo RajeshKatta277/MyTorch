{
  "nbformat": 4,
  "nbformat_minor": 0,
  "metadata": {
    "colab": {
      "provenance": []
    },
    "kernelspec": {
      "name": "python3",
      "display_name": "Python 3"
    },
    "language_info": {
      "name": "python"
    }
  },
  "cells": [
    {
      "cell_type": "markdown",
      "source": [
        "**Uploading and extracting Mytorch:**\n",
        "\n",
        "upload Mytorch.zip in the first cell adn run cell one and two."
      ],
      "metadata": {
        "id": "TcxeKIsvZfhq"
      }
    },
    {
      "cell_type": "code",
      "source": [
        "# upload Mytorch.zip file here\n",
        "from google.colab import files\n",
        "uploaded=files.upload()"
      ],
      "metadata": {
        "id": "XJYUzkHEZa-k"
      },
      "execution_count": null,
      "outputs": []
    },
    {
      "cell_type": "code",
      "source": [
        "# extracts Mytorch\n",
        "import zipfile\n",
        "zip_file_name = 'Mytorch.zip'\n",
        "extract_location = '/content/'\n",
        "\n",
        "with zipfile.ZipFile(zip_file_name, 'r') as zip_ref:\n",
        "    zip_ref.extractall(extract_location)"
      ],
      "metadata": {
        "id": "D03a7bpspByj"
      },
      "execution_count": 1,
      "outputs": []
    },
    {
      "cell_type": "markdown",
      "source": [
        "**Importing from Mytorch:**"
      ],
      "metadata": {
        "id": "GGQMa7lmZ0n7"
      }
    },
    {
      "cell_type": "code",
      "source": [
        "import Mytorch\n",
        "import Mytorch.Network.Network as Network #to create network of layers\n",
        "from Mytorch.ActivationFunctions import Sigmoid,Tanh,ReLU,LeakyReLU,Softmax #activationlayers\n",
        "from Mytorch.Layers import FCLayer,Conv,Reshape\n",
        "from Mytorch.LossFunctions import BinaryCrossEntropy, CrossEntropy, MeanSquaredError\n",
        "from Mytorch.Optimizers import GradientDescent, GradientDescentWithMomentum, RMSProp, Adam"
      ],
      "metadata": {
        "id": "fC3XHNsxpFjB"
      },
      "execution_count": 2,
      "outputs": []
    },
    {
      "cell_type": "code",
      "source": [
        "#function to calculate accuracy\n",
        "def accuracy(pred,true):\n",
        "    return np.sum(true==pred,axis=0)/len(true)"
      ],
      "metadata": {
        "id": "MEqFOMlgpLh_"
      },
      "execution_count": 3,
      "outputs": []
    },
    {
      "cell_type": "markdown",
      "source": [
        "**Loading MNIST handwritten digit datset from pytorch:**\n",
        "\n",
        "We're using pytroch only to get data.\n"
      ],
      "metadata": {
        "id": "H4yj8kEyaHjp"
      }
    },
    {
      "cell_type": "code",
      "source": [
        "import torchvision.datasets as datasets\n",
        "import torchvision.transforms as transforms\n",
        "import torch\n",
        "import numpy as np\n",
        "\n",
        "\n",
        "transform = transforms.Compose([\n",
        "    transforms.Resize(28),\n",
        "    transforms.ToTensor(),\n",
        "    transforms.Normalize((0.5,), (0.5,))\n",
        "\n",
        "])\n",
        "\n",
        "\n",
        "train_dataset = datasets.MNIST(root='./data', train=True, download=True, transform=transform)\n",
        "\n",
        "test_dataset = datasets.MNIST(root='./data', train=False, download=True, transform=transform)\n",
        "\n",
        "\n",
        "train_loader = torch.utils.data.DataLoader(train_dataset, batch_size=1, shuffle=True)\n",
        "test_loader = torch.utils.data.DataLoader(test_dataset, batch_size=64, shuffle=False)\n",
        "\n",
        "\n",
        "\n",
        "def to_one_hot(labels, num_classes=10):\n",
        "    one_hot_labels = torch.zeros(labels.size(0), num_classes)\n",
        "    for i, label in enumerate(labels):\n",
        "        one_hot_labels[i][label] = 1.0\n",
        "    return one_hot_labels"
      ],
      "metadata": {
        "colab": {
          "base_uri": "https://localhost:8080/"
        },
        "id": "dhhVDjmPpOe4",
        "outputId": "25121248-ecc7-4add-ea84-6625dd8172fe"
      },
      "execution_count": 4,
      "outputs": [
        {
          "output_type": "stream",
          "name": "stdout",
          "text": [
            "Downloading http://yann.lecun.com/exdb/mnist/train-images-idx3-ubyte.gz\n",
            "Downloading http://yann.lecun.com/exdb/mnist/train-images-idx3-ubyte.gz to ./data/MNIST/raw/train-images-idx3-ubyte.gz\n"
          ]
        },
        {
          "output_type": "stream",
          "name": "stderr",
          "text": [
            "100%|██████████| 9912422/9912422 [00:00<00:00, 108912209.60it/s]\n"
          ]
        },
        {
          "output_type": "stream",
          "name": "stdout",
          "text": [
            "Extracting ./data/MNIST/raw/train-images-idx3-ubyte.gz to ./data/MNIST/raw\n",
            "\n",
            "Downloading http://yann.lecun.com/exdb/mnist/train-labels-idx1-ubyte.gz\n",
            "Downloading http://yann.lecun.com/exdb/mnist/train-labels-idx1-ubyte.gz to ./data/MNIST/raw/train-labels-idx1-ubyte.gz\n"
          ]
        },
        {
          "output_type": "stream",
          "name": "stderr",
          "text": [
            "100%|██████████| 28881/28881 [00:00<00:00, 103534781.05it/s]\n"
          ]
        },
        {
          "output_type": "stream",
          "name": "stdout",
          "text": [
            "Extracting ./data/MNIST/raw/train-labels-idx1-ubyte.gz to ./data/MNIST/raw\n",
            "\n",
            "Downloading http://yann.lecun.com/exdb/mnist/t10k-images-idx3-ubyte.gz\n",
            "Downloading http://yann.lecun.com/exdb/mnist/t10k-images-idx3-ubyte.gz to ./data/MNIST/raw/t10k-images-idx3-ubyte.gz\n"
          ]
        },
        {
          "output_type": "stream",
          "name": "stderr",
          "text": [
            "100%|██████████| 1648877/1648877 [00:00<00:00, 29060809.30it/s]\n"
          ]
        },
        {
          "output_type": "stream",
          "name": "stdout",
          "text": [
            "Extracting ./data/MNIST/raw/t10k-images-idx3-ubyte.gz to ./data/MNIST/raw\n",
            "\n",
            "Downloading http://yann.lecun.com/exdb/mnist/t10k-labels-idx1-ubyte.gz\n",
            "Downloading http://yann.lecun.com/exdb/mnist/t10k-labels-idx1-ubyte.gz to ./data/MNIST/raw/t10k-labels-idx1-ubyte.gz\n"
          ]
        },
        {
          "output_type": "stream",
          "name": "stderr",
          "text": [
            "100%|██████████| 4542/4542 [00:00<00:00, 20440481.51it/s]\n"
          ]
        },
        {
          "output_type": "stream",
          "name": "stdout",
          "text": [
            "Extracting ./data/MNIST/raw/t10k-labels-idx1-ubyte.gz to ./data/MNIST/raw\n",
            "\n"
          ]
        }
      ]
    },
    {
      "cell_type": "markdown",
      "source": [
        "**Creating network:**\n",
        "\n",
        "network archetecture:\n",
        "\n",
        "\n",
        "\n",
        "\n",
        "```\n",
        "convlayer(kernelsize=3,input_channels=1,output_channels=5)\n",
        "sigmoid_activation_layer()\n",
        "convlayer(kernelsize=3,input_channels=5,output_channels=10)\n",
        "sigmoid_activation_layer()\n",
        "reshape_layer(input_shape=(10,24,24),output_shape=(10*24*24 , 1) )\n",
        "fullyconnectedlayer(input_size=10*24*24 ,output_size=100)\n",
        "sigmoid_activation_layer()\n",
        "fullyconnectedlayer(input_size=100,output_size=10)\n",
        "sigmoid_activation_layer()\n",
        "```\n",
        "The Reshape Layer in MyTorch is designed to transform the output from Conv(CNN) layers into a flattened shape, suitable for passing the data to Fully Connected (FCLayer) layers."
      ],
      "metadata": {
        "id": "SSed-fPLaczV"
      }
    },
    {
      "cell_type": "code",
      "source": [
        "net=Network()\n",
        "net.add_layers(Conv(kernel_size=3,input_depth=1,output_depth=5))\n",
        "net.add_layers(Sigmoid())\n",
        "net.add_layers(Conv(kernel_size=3,input_depth=5,output_depth=10))\n",
        "net.add_layers(Sigmoid())\n",
        "net.add_layers(Reshape((10,24,24),(10*24*24,1)))\n",
        "net.add_layers(FCLayer(10*24*24,100))\n",
        "net.add_layers(Sigmoid())\n",
        "net.add_layers(FCLayer(100,10))\n",
        "net.add_layers(Sigmoid())"
      ],
      "metadata": {
        "id": "mcWpo88zpUxR"
      },
      "execution_count": 5,
      "outputs": []
    },
    {
      "cell_type": "markdown",
      "source": [
        "**Training:**"
      ],
      "metadata": {
        "id": "jEcvoLo9cUdF"
      }
    },
    {
      "cell_type": "code",
      "source": [
        "learning_rate= 0.001\n",
        "optimizer=GradientDescent(net.layers,learning_rate=learning_rate)\n",
        "error=BinaryCrossEntropy()\n",
        "epochs=5\n",
        "for epoch in range(epochs):\n",
        "    epoch_loss=[]\n",
        "    acc=[]\n",
        "    for images,labels in train_loader:\n",
        "        data=images.reshape(images.shape[0],1,28,28)\n",
        "        targets=to_one_hot(labels)\n",
        "        data=data.numpy()\n",
        "        targets=targets.numpy()\n",
        "        outputs=net.predict(data)\n",
        "        loss=error.Loss(targets,outputs)#returns loss\n",
        "        epoch_loss.append(loss)\n",
        "        acc.append(accuracy(np.argmax(outputs,axis=1),np.argmax(targets,axis=1)))\n",
        "        error.backward(net,targets,outputs)#computes derivatives of loss with respect to each weight in each layer\n",
        "        optimizer.step()# updates weights\n",
        "\n",
        "    print(f\"epoch:{epoch+1}, loss:{np.mean(epoch_loss)} , accuracy:{np.mean(acc)*100}%\")"
      ],
      "metadata": {
        "colab": {
          "base_uri": "https://localhost:8080/"
        },
        "id": "5Mnj9XT4pYfp",
        "outputId": "c6714bad-667c-4cd9-9e98-da7270474afa"
      },
      "execution_count": 6,
      "outputs": [
        {
          "output_type": "stream",
          "name": "stdout",
          "text": [
            "epoch:1, loss:0.1297362714460865 , accuracy:80.28833333333333%\n",
            "epoch:2, loss:0.056575114539481795 , accuracy:91.85%\n",
            "epoch:3, loss:0.04424243689721972 , accuracy:93.47%\n",
            "epoch:4, loss:0.03710513431695464 , accuracy:94.61333333333334%\n",
            "epoch:5, loss:0.03215961753225156 , accuracy:95.37166666666667%\n"
          ]
        }
      ]
    },
    {
      "cell_type": "markdown",
      "source": [
        "**Testing on test dataset:**"
      ],
      "metadata": {
        "id": "SnalNveRcsJ-"
      }
    },
    {
      "cell_type": "code",
      "source": [
        "acc=[]\n",
        "for image,labels in test_loader:\n",
        "    data=image.reshape(image.shape[0],1,28,28)\n",
        "    targets=to_one_hot(labels)\n",
        "    data=data.numpy()\n",
        "    targets=targets.numpy()\n",
        "    outputs=net.predict(data)\n",
        "    acc.append(accuracy(np.argmax(outputs,axis=1),np.argmax(targets,axis=1)))\n",
        "\n",
        "print(f\"test accuracy: {np.mean(acc)*100}\")\n",
        ""
      ],
      "metadata": {
        "colab": {
          "base_uri": "https://localhost:8080/"
        },
        "id": "7Dim1xWp7Jja",
        "outputId": "17d05a7b-efe3-4a60-e831-eac7058edb0d"
      },
      "execution_count": 7,
      "outputs": [
        {
          "output_type": "stream",
          "name": "stdout",
          "text": [
            "test accuracy: 95.57125796178345\n"
          ]
        }
      ]
    }
  ]
}